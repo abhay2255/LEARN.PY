{
  "nbformat": 4,
  "nbformat_minor": 0,
  "metadata": {
    "colab": {
      "name": "TASK 9.ipynb",
      "provenance": [],
      "include_colab_link": true
    },
    "kernelspec": {
      "name": "python3",
      "display_name": "Python 3"
    },
    "language_info": {
      "name": "python"
    }
  },
  "cells": [
    {
      "cell_type": "markdown",
      "metadata": {
        "id": "view-in-github",
        "colab_type": "text"
      },
      "source": [
        "<a href=\"https://colab.research.google.com/github/abhay2255/LEARN.PY/blob/main/TASK_9.ipynb\" target=\"_parent\"><img src=\"https://colab.research.google.com/assets/colab-badge.svg\" alt=\"Open In Colab\"/></a>"
      ]
    },
    {
      "cell_type": "markdown",
      "metadata": {
        "id": "CBOQ3rFElEb0"
      },
      "source": [
        "1. Create an 4x4 array containing the values ranging from 0 - 15 (use arange function). Then ,\n",
        "  \n",
        "  a) split it equally along horizontal.\n",
        "\n",
        "  b) split it as 4 parts vertically.\n",
        "\n"
      ]
    },
    {
      "cell_type": "code",
      "metadata": {
        "id": "pKy4fjS_m3XD",
        "outputId": "3fcd9043-6c37-4f03-d976-aa31a2f5a663",
        "colab": {
          "base_uri": "https://localhost:8080/"
        }
      },
      "source": [
        "#please provide your answer below this line\n",
        "import numpy as np\n",
        "n =np.arange(0,16).reshape(4,4)\n",
        " \n",
        "x =np.hsplit(n,2)\n",
        "y =np.vsplit(n,4)\n",
        " \n",
        "print(x)\n",
        "print(y)"
      ],
      "execution_count": 1,
      "outputs": [
        {
          "output_type": "stream",
          "text": [
            "[array([[ 0,  1],\n",
            "       [ 4,  5],\n",
            "       [ 8,  9],\n",
            "       [12, 13]]), array([[ 2,  3],\n",
            "       [ 6,  7],\n",
            "       [10, 11],\n",
            "       [14, 15]])]\n",
            "[array([[0, 1, 2, 3]]), array([[4, 5, 6, 7]]), array([[ 8,  9, 10, 11]]), array([[12, 13, 14, 15]])]\n"
          ],
          "name": "stdout"
        }
      ]
    },
    {
      "cell_type": "markdown",
      "metadata": {
        "id": "ORtqWRAeoMvn"
      },
      "source": [
        "2. Create a 3x3 matrix using random module and then,\n",
        "\n",
        "  a) Find the ceil of the matrix.\n",
        "  \n",
        "  b) Find the floor of the matrix."
      ]
    },
    {
      "cell_type": "code",
      "metadata": {
        "id": "kt_CO_v9qpU-",
        "outputId": "99be1f30-8dc2-42ee-d34d-f859b9f5e6ed",
        "colab": {
          "base_uri": "https://localhost:8080/"
        }
      },
      "source": [
        "#please provide your answer below this line\n",
        "import numpy as np\n",
        "a =np.random.rand(3,3)\n",
        " \n",
        "x =np.ceil(a)\n",
        "y =np.floor(a)\n",
        " \n",
        "print(x)\n",
        "print(x)"
      ],
      "execution_count": 2,
      "outputs": [
        {
          "output_type": "stream",
          "text": [
            "[[1. 1. 1.]\n",
            " [1. 1. 1.]\n",
            " [1. 1. 1.]]\n",
            "[[1. 1. 1.]\n",
            " [1. 1. 1.]\n",
            " [1. 1. 1.]]\n"
          ],
          "name": "stdout"
        }
      ]
    },
    {
      "cell_type": "markdown",
      "metadata": {
        "id": "oln9t19WqzBb"
      },
      "source": [
        "3. Create a random 1x4 array and print the random array and its shape.\n",
        "    \n",
        "      (use the shape function for finding the shape & use the same random we created here for both the below operations.)\n",
        "\n",
        "  a) Squeeze the random array and print the squeezed array and its shape.\n",
        "  b) Expand the random array by one axis and print the expanded array and its shape."
      ]
    },
    {
      "cell_type": "code",
      "metadata": {
        "id": "cbGGwRo3vpVX",
        "outputId": "199af31e-9fef-4c04-956c-795465472ce0",
        "colab": {
          "base_uri": "https://localhost:8080/"
        }
      },
      "source": [
        " \n",
        "#please provide your answer below this line.\n",
        "import numpy as np\n",
        "a =np.random.rand(1,4)\n",
        "print(a)\n",
        "print(np.shape(a))\n",
        " \n",
        "b =np.squeeze(a)\n",
        "print(b)\n",
        "print(np.shape(b))\n",
        " \n",
        "c =np.expand_dims(a,1)\n",
        "print(c)\n",
        "print(np.shape(c))"
      ],
      "execution_count": 3,
      "outputs": [
        {
          "output_type": "stream",
          "text": [
            "[[0.59276464 0.18990983 0.3974729  0.49474367]]\n",
            "(1, 4)\n",
            "[0.59276464 0.18990983 0.3974729  0.49474367]\n",
            "(4,)\n",
            "[[[0.59276464 0.18990983 0.3974729  0.49474367]]]\n",
            "(1, 1, 4)\n"
          ],
          "name": "stdout"
        }
      ]
    }
  ]
}