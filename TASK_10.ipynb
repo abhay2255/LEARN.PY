{
  "nbformat": 4,
  "nbformat_minor": 0,
  "metadata": {
    "colab": {
      "name": "TASK 10.ipynb",
      "provenance": [],
      "include_colab_link": true
    },
    "kernelspec": {
      "name": "python3",
      "display_name": "Python 3"
    },
    "language_info": {
      "name": "python"
    }
  },
  "cells": [
    {
      "cell_type": "markdown",
      "metadata": {
        "id": "view-in-github",
        "colab_type": "text"
      },
      "source": [
        "<a href=\"https://colab.research.google.com/github/abhay2255/LEARN.PY/blob/main/TASK_10.ipynb\" target=\"_parent\"><img src=\"https://colab.research.google.com/assets/colab-badge.svg\" alt=\"Open In Colab\"/></a>"
      ]
    },
    {
      "cell_type": "markdown",
      "metadata": {
        "id": "VHKxwUewxOi2"
      },
      "source": [
        "1. Generate two  3 x 3 matrix and find it's dot product and take the transpose of the answer."
      ]
    },
    {
      "cell_type": "code",
      "metadata": {
        "id": "RdyKd1CAxZtR",
        "outputId": "6b79b85d-63f3-4650-9686-fb52524ee903",
        "colab": {
          "base_uri": "https://localhost:8080/"
        }
      },
      "source": [
        "#please provide your answer below this line.\n",
        "import numpy as np\n",
        "x = np.random.rand(3,3)\n",
        "y = np.random.rand(3,3)\n",
        " \n",
        "print(x)\n",
        "print(y)\n",
        " \n",
        "a=np.dot(x,y)\n",
        "print(a)\n",
        "a.transpose()"
      ],
      "execution_count": 1,
      "outputs": [
        {
          "output_type": "stream",
          "text": [
            "[[0.76085939 0.86632892 0.37553218]\n",
            " [0.06086621 0.4964655  0.68045423]\n",
            " [0.31166311 0.36597216 0.37991839]]\n",
            "[[0.49267524 0.69573996 0.69322196]\n",
            " [0.98225236 0.63158341 0.77348843]\n",
            " [0.52582437 0.10714127 0.11950802]]\n",
            "[[1.42327417 1.11675425 1.24241894]\n",
            " [0.8754411  0.42881117 0.50752385]\n",
            " [0.71279606 0.48868337 0.54453024]]\n"
          ],
          "name": "stdout"
        },
        {
          "output_type": "execute_result",
          "data": {
            "text/plain": [
              "array([[1.42327417, 0.8754411 , 0.71279606],\n",
              "       [1.11675425, 0.42881117, 0.48868337],\n",
              "       [1.24241894, 0.50752385, 0.54453024]])"
            ]
          },
          "metadata": {
            "tags": []
          },
          "execution_count": 1
        }
      ]
    },
    {
      "cell_type": "markdown",
      "metadata": {
        "id": "9c9ZwiBxxf4t"
      },
      "source": [
        "2. Create a 3x3 matrix with elements [55,25,15], [30,44,2], [11,45,77] . Now find the determinant of the given matrix."
      ]
    },
    {
      "cell_type": "code",
      "metadata": {
        "id": "Anmr3C9KyNyy",
        "outputId": "919dc11e-9bd5-41ac-e86f-1baad3aa6da9",
        "colab": {
          "base_uri": "https://localhost:8080/"
        }
      },
      "source": [
        "#please provide your answer below this line.\n",
        "import numpy as np\n",
        "a=[[55,25,15], [30,44,2], [11,45,77]]\n",
        "b=np.array(a)\n",
        "print(b)\n",
        "np.linalg.det(b)"
      ],
      "execution_count": 2,
      "outputs": [
        {
          "output_type": "stream",
          "text": [
            "[[55 25 15]\n",
            " [30 44  2]\n",
            " [11 45 77]]\n"
          ],
          "name": "stdout"
        },
        {
          "output_type": "execute_result",
          "data": {
            "text/plain": [
              "137180.0000000001"
            ]
          },
          "metadata": {
            "tags": []
          },
          "execution_count": 2
        }
      ]
    }
  ]
}