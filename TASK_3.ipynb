{
  "nbformat": 4,
  "nbformat_minor": 0,
  "metadata": {
    "colab": {
      "name": "TASK 3.ipynb",
      "provenance": [],
      "include_colab_link": true
    },
    "kernelspec": {
      "name": "python3",
      "display_name": "Python 3"
    },
    "language_info": {
      "name": "python"
    }
  },
  "cells": [
    {
      "cell_type": "markdown",
      "metadata": {
        "id": "view-in-github",
        "colab_type": "text"
      },
      "source": [
        "<a href=\"https://colab.research.google.com/github/abhay2255/LEARN.PY/blob/main/TASK_3.ipynb\" target=\"_parent\"><img src=\"https://colab.research.google.com/assets/colab-badge.svg\" alt=\"Open In Colab\"/></a>"
      ]
    },
    {
      "cell_type": "markdown",
      "metadata": {
        "id": "z20IIB0eUQMN"
      },
      "source": [
        "1 - Write a program which takes a number as input from the user and check whether the number is odd or even.If odd print the number is odd if not print it is even."
      ]
    },
    {
      "cell_type": "code",
      "metadata": {
        "id": "dVgGJ-wTVRit",
        "outputId": "a5c8395e-bbdb-4831-ccff-b6e5825d7871",
        "colab": {
          "base_uri": "https://localhost:8080/"
        }
      },
      "source": [
        "#please enter your answer below this line\n",
        "number = int(input(\"Enter a number: \"))\n",
        "if (number % 2) == 0:\n",
        "   print(\"{0} is Even\".format(number))\n",
        "else:\n",
        "   print(\"{0} is Odd\".format(number))"
      ],
      "execution_count": 3,
      "outputs": [
        {
          "output_type": "stream",
          "text": [
            "Enter a number: 20\n",
            "20 is Even\n"
          ],
          "name": "stdout"
        }
      ]
    },
    {
      "cell_type": "markdown",
      "metadata": {
        "id": "7778XD8PVblj"
      },
      "source": [
        "2 -Write a program to find the largest among three numbers and print the largest number."
      ]
    },
    {
      "cell_type": "code",
      "metadata": {
        "id": "m0tUOkOFWR-d",
        "outputId": "dde94e39-6680-4100-89c9-a93704d2b9a6",
        "colab": {
          "base_uri": "https://localhost:8080/"
        }
      },
      "source": [
        "#please enter your answer below this line\n",
        "A = 100\n",
        "B = 150\n",
        "C = 200\n",
        "if (A > B) and (A > C):\n",
        "  Largest = A\n",
        "elif (B > A) and (B >C):\n",
        "  Largest = B\n",
        "else :\n",
        "      Largest = C\n",
        "      print('Largest number is',Largest)"
      ],
      "execution_count": 6,
      "outputs": [
        {
          "output_type": "stream",
          "text": [
            "Largest number is 200\n"
          ],
          "name": "stdout"
        }
      ]
    },
    {
      "cell_type": "markdown",
      "metadata": {
        "id": "Jg2Ns4OQWaJy"
      },
      "source": [
        "3 -Write a function to prompt for a score between 0.0 and 1.0.\n",
        " \n",
        "    If the score is out of range, print an error.\n",
        "    If the score is between 0.0 and 1.0, print a grade using the following table:\n",
        "    Score Grade\n",
        "             Score  Grade\n",
        "            >= 0.9  A\n",
        "            >= 0.8  B\n",
        "            >= 0.7  C\n",
        "            >= 0.6  D\n",
        "             < 0.6  F\n",
        "If the user enters a value out of range, print a suitable error message and exit. For the test, enter a score of 0.85."
      ]
    },
    {
      "cell_type": "code",
      "metadata": {
        "id": "6DLbGe6XXZPx",
        "outputId": "74e78e6f-b60a-4e6e-bdf7-3951e760a0f9",
        "colab": {
          "base_uri": "https://localhost:8080/"
        }
      },
      "source": [
        "#please enter your answer below this line\n",
        "s = float(input('Score:'))\n",
        "if s >= 0.9 and s <= 1.0:\n",
        "  print('A')\n",
        "elif s >= 0.8 and s <= 0.9:\n",
        "    print('B')\n",
        "elif s >= 0.7 and s <= 0.8:\n",
        "      print('C')\n",
        "elif s >= 0.6 and s <= 0.7:\n",
        "        print('D')\n",
        "elif s <= 0.6 and s >= 0.0:\n",
        "          print('F')\n",
        "if (0.0>s<1.0):\n",
        "        print('invalid')"
      ],
      "execution_count": 20,
      "outputs": [
        {
          "output_type": "stream",
          "text": [
            "Score:0.85\n",
            "B\n"
          ],
          "name": "stdout"
        }
      ]
    },
    {
      "cell_type": "markdown",
      "metadata": {
        "id": "-o0scDq7WkVT"
      },
      "source": [
        ""
      ]
    }
  ]
}